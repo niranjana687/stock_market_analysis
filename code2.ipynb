{
 "cells": [
  {
   "cell_type": "code",
   "execution_count": 3,
   "metadata": {},
   "outputs": [],
   "source": [
    "import datetime as dt\n",
    "import matplotlib.pyplot as plt\n",
    "from matplotlib import style\n",
    "import pandas as pd\n",
    "import pandas_datareader.data as web\n",
    "style.use('ggplot')\n",
    "\n",
    "df = pd.read_csv('tsla.csv', parse_dates=True, index_col=0)"
   ]
  },
  {
   "cell_type": "code",
   "execution_count": 7,
   "metadata": {},
   "outputs": [
    {
     "name": "stdout",
     "output_type": "stream",
     "text": [
      "            level_0  index        High         Low        Open       Close  \\\n",
      "Date                                                                         \n",
      "2019-12-31        0      0  421.290009  402.079987  405.000000  418.329987   \n",
      "2020-01-02        1      1  430.700012  421.709991  424.500000  430.260010   \n",
      "2020-01-03        2      2  454.000000  436.920013  440.500000  443.010010   \n",
      "2020-01-06        3      3  451.559998  440.000000  440.470001  451.540009   \n",
      "2020-01-07        4      4  471.630005  453.359985  461.399994  469.059998   \n",
      "\n",
      "              Volume   Adj Close       100ma  \n",
      "Date                                          \n",
      "2019-12-31  10285700  418.329987  418.329987  \n",
      "2020-01-02   9532100  430.260010  424.294998  \n",
      "2020-01-03  17778500  443.010010  430.533335  \n",
      "2020-01-06  10133000  451.540009  435.785004  \n",
      "2020-01-07  17882100  469.059998  442.440002  \n"
     ]
    }
   ],
   "source": [
    "df['100ma'] = df['Adj Close'].rolling(window=100, min_periods=0).mean()\n",
    "print(df.head())"
   ]
  },
  {
   "cell_type": "code",
   "execution_count": 5,
   "metadata": {},
   "outputs": [
    {
     "name": "stdout",
     "output_type": "stream",
     "text": [
      "            level_0  index        High         Low        Open       Close  \\\n",
      "Date                                                                         \n",
      "2019-12-31        0      0  421.290009  402.079987  405.000000  418.329987   \n",
      "2020-01-02        1      1  430.700012  421.709991  424.500000  430.260010   \n",
      "2020-01-03        2      2  454.000000  436.920013  440.500000  443.010010   \n",
      "2020-01-06        3      3  451.559998  440.000000  440.470001  451.540009   \n",
      "2020-01-07        4      4  471.630005  453.359985  461.399994  469.059998   \n",
      "\n",
      "              Volume   Adj Close  100ma  \n",
      "Date                                     \n",
      "2019-12-31  10285700  418.329987    NaN  \n",
      "2020-01-02   9532100  430.260010    NaN  \n",
      "2020-01-03  17778500  443.010010    NaN  \n",
      "2020-01-06  10133000  451.540009    NaN  \n",
      "2020-01-07  17882100  469.059998    NaN  \n"
     ]
    }
   ],
   "source": []
  },
  {
   "cell_type": "code",
   "execution_count": 9,
   "metadata": {},
   "outputs": [
    {
     "data": {
      "image/png": "[encoded data removed]",
      "text/plain": [
       "<Figure size 432x288 with 2 Axes>"
      ]
     },
     "metadata": {},
     "output_type": "display_data"
    }
   ],
   "source": [
    "ax1 = plt.subplot2grid((6,1), (0,0), rowspan=5, colspan=1)\n",
    "ax2 = plt.subplot2grid((6,1),(5,0), rowspan=1, colspan=1, sharex=ax1)"
   ]
  },
  {
   "cell_type": "code",
   "execution_count": 12,
   "metadata": {},
   "outputs": [],
   "source": [
    "ax1.plot(df.index, df['Adj Close'])\n",
    "ax1.plot(df.index, df['100ma'])\n",
    "ax2.bar(df.index, df['Volume'])\n",
    "\n",
    "plt.show()"
   ]
  },
  {
   "cell_type": "code",
   "execution_count": 20,
   "metadata": {},
   "outputs": [],
   "source": [
    "from mpl_finance import candlestick_ohlc\n",
    "import matplotlib.dates as mdates"
   ]
  },
  {
   "cell_type": "code",
   "execution_count": 21,
   "metadata": {},
   "outputs": [],
   "source": [
    "df_ohlc = df['Adj Close'].resample('10D').ohlc()"
   ]
  },
  {
   "cell_type": "code",
   "execution_count": 22,
   "metadata": {},
   "outputs": [],
   "source": [
    "df_volume = df['Volume'].resample('10D').sum()"
   ]
  },
  {
   "cell_type": "code",
   "execution_count": 23,
   "metadata": {},
   "outputs": [
    {
     "name": "stdout",
     "output_type": "stream",
     "text": [
      "                  open        high         low       close\n",
      "Date                                                      \n",
      "2019-12-31  418.329987  492.140015  418.329987  481.339996\n",
      "2020-01-10  478.149994  537.919983  478.149994  510.500000\n",
      "2020-01-20  547.200012  580.989990  547.200012  580.989990\n",
      "2020-01-30  640.809998  887.059998  640.809998  748.070007\n",
      "2020-02-09  771.280029  858.400024  767.289978  858.400024\n"
     ]
    }
   ],
   "source": [
    "print(df_ohlc.head())"
   ]
  },
  {
   "cell_type": "code",
   "execution_count": 24,
   "metadata": {},
   "outputs": [],
   "source": [
    "df_ohlc = df_ohlc.reset_index()"
   ]
  },
  {
   "cell_type": "code",
   "execution_count": 29,
   "metadata": {},
   "outputs": [],
   "source": [
    "df_ohlc['Date'] = df_ohlc['Date'].map(mdates.date2num)"
   ]
  },
  {
   "cell_type": "code",
   "execution_count": 32,
   "metadata": {},
   "outputs": [
    {
     "data": {
      "image/png": "[encoded data removed]",
      "text/plain": [
       "<Figure size 432x288 with 2 Axes>"
      ]
     },
     "metadata": {},
     "output_type": "display_data"
    }
   ],
   "source": [
    "fig = plt.figure()\n",
    "ax1 = plt.subplot2grid((6,1), (0,0), rowspan=5, colspan=1)\n",
    "ax2 = plt.subplot2grid((6,1), (5,0), rowspan=1, colspan=1, sharex=ax1)\n",
    "ax1.xaxis_date()"
   ]
  },
  {
   "cell_type": "code",
   "execution_count": 40,
   "metadata": {},
   "outputs": [],
   "source": [
    "candlestick_ohlc(ax1, df_ohlc.values, width=2, colorup='g')\n",
    "ax2.fill_between(df_volume.index.map(mdates.date2num), df_volume.values, 0)\n",
    "\n",
    "\n",
    "plt.show()"
   ]
  },
  {
   "cell_type": "code",
   "execution_count": 41,
   "metadata": {},
   "outputs": [],
   "source": [
    "import bs4 as bs\n",
    "import pickle \n",
    "import requests\n"
   ]
  },
  {
   "cell_type": "code",
   "execution_count": 44,
   "metadata": {},
   "outputs": [],
   "source": [
    "def save_sp500_tickers():\n",
    "    resp = requests.get('http://en.wikipedia.org/wiki/List_of_S%26P_500_companies')\n",
    "    soup = bd.BeautifulSoup(resp.text, 'lxml')\n",
    "    table = soup.find('table', {'class': 'wikitable sortable'})\n",
    "    \n",
    "    "
   ]
  },
  {
   "cell_type": "code",
   "execution_count": 45,
   "metadata": {},
   "outputs": [],
   "source": [
    "    headers = {'User-Agent': 'Mozilla/5.0 (X11; Linux i686) AppleWebKit/537.17 (KHTML, like Gecko) Chrome/24.0.1312.27 Safari/537.17'}\n",
    "    resp = requests.get('http://en.wikipedia.org/wiki/List_of_S%26P_500_companies',\n",
    "                        headers=headers)"
   ]
  },
  {
   "cell_type": "code",
   "execution_count": null,
   "metadata": {},
   "outputs": [],
   "source": [
    "tickers = []\n"
   ]
  },
  {
   "cell_type": "code",
   "execution_count": null,
   "metadata": {},
   "outputs": [],
   "source": []
  },
  {
   "cell_type": "code",
   "execution_count": null,
   "metadata": {},
   "outputs": [],
   "source": []
  },
  {
   "cell_type": "code",
   "execution_count": null,
   "metadata": {},
   "outputs": [],
   "source": []
  },
  {
   "cell_type": "code",
   "execution_count": null,
   "metadata": {},
   "outputs": [],
   "source": []
  }
 ],
 "metadata": {
  "kernelspec": {
   "display_name": "Python 3",
   "language": "python",
   "name": "python3"
  },
  "language_info": {
   "codemirror_mode": {
    "name": "ipython",
    "version": 3
   },
   "file_extension": ".py",
   "mimetype": "text/x-python",
   "name": "python",
   "nbconvert_exporter": "python",
   "pygments_lexer": "ipython3",
   "version": "3.7.4"
  }
 },
 "nbformat": 4,
 "nbformat_minor": 2
}
